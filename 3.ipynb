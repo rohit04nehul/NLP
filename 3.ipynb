{
 "cells": [
  {
   "cell_type": "code",
   "execution_count": 1,
   "id": "aff6c396-e58e-41cd-a7a0-976e720a8b3c",
   "metadata": {},
   "outputs": [
    {
     "name": "stderr",
     "output_type": "stream",
     "text": [
      "[nltk_data] Downloading package punkt to\n",
      "[nltk_data]     C:\\Users\\Saurabh\\AppData\\Roaming\\nltk_data...\n",
      "[nltk_data]   Package punkt is already up-to-date!\n",
      "[nltk_data] Downloading package wordnet to\n",
      "[nltk_data]     C:\\Users\\Saurabh\\AppData\\Roaming\\nltk_data...\n",
      "[nltk_data]   Package wordnet is already up-to-date!\n",
      "[nltk_data] Downloading package stopwords to\n",
      "[nltk_data]     C:\\Users\\Saurabh\\AppData\\Roaming\\nltk_data...\n",
      "[nltk_data]   Unzipping corpora\\stopwords.zip.\n"
     ]
    },
    {
     "data": {
      "text/plain": [
       "True"
      ]
     },
     "execution_count": 1,
     "metadata": {},
     "output_type": "execute_result"
    }
   ],
   "source": [
    "import pandas as pd\n",
    "import numpy as np\n",
    "import re\n",
    "import nltk\n",
    "from sklearn.feature_extraction.text import TfidfVectorizer\n",
    "from sklearn.preprocessing import LabelEncoder\n",
    "nltk.download('punkt')\n",
    "nltk.download('wordnet')\n",
    "nltk.download('stopwords')"
   ]
  },
  {
   "cell_type": "code",
   "execution_count": 2,
   "id": "25dd85b2-09d7-4d2f-b4ef-ce8a7a1b1677",
   "metadata": {},
   "outputs": [
    {
     "name": "stdout",
     "output_type": "stream",
     "text": [
      "   id        topic sentiment  \\\n",
      "0   1  Borderlands  Positive   \n",
      "1   2  Borderlands  Negative   \n",
      "\n",
      "                                               tweet  \n",
      "0  I'm getting on Borderlands and I will murder y...  \n",
      "1  This game is so bad, I can't believe I bought it.  \n"
     ]
    }
   ],
   "source": [
    "# Sample Data\n",
    "data = {\n",
    "    'id': [1, 2],\n",
    "    'topic': ['Borderlands', 'Borderlands'],\n",
    "    'sentiment': ['Positive', 'Negative'],\n",
    "    'tweet': [\n",
    "        \"I'm getting on Borderlands and I will murder you all!\",\n",
    "        \"This game is so bad, I can't believe I bought it.\"\n",
    "    ]\n",
    "}\n",
    "\n",
    "df = pd.DataFrame(data)\n",
    "print(df.head())"
   ]
  },
  {
   "cell_type": "code",
   "execution_count": 3,
   "id": "b38f13a7-fae6-4b15-8c53-24cd1ab02022",
   "metadata": {},
   "outputs": [
    {
     "name": "stdout",
     "output_type": "stream",
     "text": [
      "                                               tweet  \\\n",
      "0  I'm getting on Borderlands and I will murder y...   \n",
      "1  This game is so bad, I can't believe I bought it.   \n",
      "\n",
      "                     clean_text  \n",
      "0  im getting borderland murder  \n",
      "1  game bad cant believe bought  \n"
     ]
    }
   ],
   "source": [
    "from nltk.corpus import stopwords\n",
    "from nltk.tokenize import word_tokenize\n",
    "from nltk.stem import WordNetLemmatizer\n",
    "\n",
    "stop_words = set(stopwords.words('english'))\n",
    "lemmatizer = WordNetLemmatizer()\n",
    "\n",
    "def preprocess(text):\n",
    "    # Lowercase\n",
    "    text = text.lower()\n",
    "    # Remove URLs, mentions, hashtags, non-alphabetic characters\n",
    "    text = re.sub(r\"http\\S+|@\\w+|#\\w+|[^a-z\\s]\", \"\", text)\n",
    "    # Tokenize\n",
    "    tokens = word_tokenize(text)\n",
    "    # Remove stopwords & lemmatize\n",
    "    tokens = [lemmatizer.lemmatize(word) for word in tokens if word not in stop_words]\n",
    "    return \" \".join(tokens)\n",
    "\n",
    "df['clean_text'] = df['tweet'].apply(preprocess)\n",
    "print(df[['tweet', 'clean_text']])"
   ]
  },
  {
   "cell_type": "code",
   "execution_count": 4,
   "id": "fc5e586a-ea37-45b0-9ec6-94badd2beb79",
   "metadata": {},
   "outputs": [
    {
     "name": "stdout",
     "output_type": "stream",
     "text": [
      "  sentiment  sentiment_encoded\n",
      "0  Positive                  1\n",
      "1  Negative                  0\n"
     ]
    }
   ],
   "source": [
    "# Encode sentiment labels\n",
    "label_encoder = LabelEncoder()\n",
    "df['sentiment_encoded'] = label_encoder.fit_transform(df['sentiment'])\n",
    "print(df[['sentiment', 'sentiment_encoded']])"
   ]
  },
  {
   "cell_type": "code",
   "execution_count": 5,
   "id": "e5b9d4ed-5952-4bac-889c-90b90211a5d7",
   "metadata": {},
   "outputs": [
    {
     "name": "stdout",
     "output_type": "stream",
     "text": [
      "        bad   believe  borderland    bought      cant      game  getting   im  \\\n",
      "0  0.000000  0.000000         0.5  0.000000  0.000000  0.000000      0.5  0.5   \n",
      "1  0.447214  0.447214         0.0  0.447214  0.447214  0.447214      0.0  0.0   \n",
      "\n",
      "   murder  \n",
      "0     0.5  \n",
      "1     0.0  \n"
     ]
    }
   ],
   "source": [
    "tfidf = TfidfVectorizer()\n",
    "tfidf_matrix = tfidf.fit_transform(df['clean_text'])\n",
    "\n",
    "# Convert to DataFrame for inspection\n",
    "tfidf_df = pd.DataFrame(tfidf_matrix.toarray(), columns=tfidf.get_feature_names_out())\n",
    "print(tfidf_df.head())"
   ]
  },
  {
   "cell_type": "code",
   "execution_count": 6,
   "id": "c074da07-bef2-4225-8652-df539414e1de",
   "metadata": {},
   "outputs": [
    {
     "name": "stdout",
     "output_type": "stream",
     "text": [
      "Files saved: 'cleaned_tweets.csv' and 'tfidf_features.csv'\n"
     ]
    }
   ],
   "source": [
    "# Save to CSV\n",
    "df.to_csv(\"cleaned_tweets.csv\", index=False)\n",
    "tfidf_df.to_csv(\"tfidf_features.csv\", index=False)\n",
    "print(\"Files saved: 'cleaned_tweets.csv' and 'tfidf_features.csv'\")"
   ]
  },
  {
   "cell_type": "code",
   "execution_count": null,
   "id": "4423813e-5ae3-4f3c-950e-d0706fe59b3e",
   "metadata": {},
   "outputs": [],
   "source": []
  }
 ],
 "metadata": {
  "kernelspec": {
   "display_name": "Python 3 (ipykernel)",
   "language": "python",
   "name": "python3"
  },
  "language_info": {
   "codemirror_mode": {
    "name": "ipython",
    "version": 3
   },
   "file_extension": ".py",
   "mimetype": "text/x-python",
   "name": "python",
   "nbconvert_exporter": "python",
   "pygments_lexer": "ipython3",
   "version": "3.12.4"
  }
 },
 "nbformat": 4,
 "nbformat_minor": 5
}
