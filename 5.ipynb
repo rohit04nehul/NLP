{
 "cells": [
  {
   "cell_type": "code",
   "execution_count": 1,
   "id": "c3954b0c-929b-4472-bc1e-8c4e2dd344db",
   "metadata": {},
   "outputs": [
    {
     "name": "stderr",
     "output_type": "stream",
     "text": [
      "[nltk_data] Downloading package wordnet to\n",
      "[nltk_data]     C:\\Users\\Saurabh\\AppData\\Roaming\\nltk_data...\n",
      "[nltk_data]   Package wordnet is already up-to-date!\n",
      "[nltk_data] Downloading package omw-1.4 to\n",
      "[nltk_data]     C:\\Users\\Saurabh\\AppData\\Roaming\\nltk_data...\n",
      "[nltk_data]   Package omw-1.4 is already up-to-date!\n"
     ]
    },
    {
     "name": "stdout",
     "output_type": "stream",
     "text": [
      "Word        | Stem      | Lemma\n",
      "--------------------------------\n",
      "playing     | play      | play\n",
      "happily     | happili   | happily\n",
      "governed    | govern    | govern\n",
      "nationally  | nation    | nationally\n",
      "running     | run       | run\n",
      "kindness    | kind      | kindness\n"
     ]
    }
   ],
   "source": [
    "import nltk\n",
    "from nltk.stem import PorterStemmer, WordNetLemmatizer\n",
    "from nltk.corpus import wordnet\n",
    "\n",
    "# Download required data (only once)\n",
    "nltk.download('wordnet')\n",
    "nltk.download('omw-1.4')\n",
    "\n",
    "# Initialize stemmer and lemmatizer\n",
    "stemmer = PorterStemmer()\n",
    "lemmatizer = WordNetLemmatizer()\n",
    "\n",
    "# Sample words and their POS tags ('v' = verb, 'n' = noun, 'a' = adjective, 'r' = adverb)\n",
    "words_with_pos = [\n",
    "    (\"playing\", \"v\"),\n",
    "    (\"happily\", \"r\"),\n",
    "    (\"governed\", \"v\"),\n",
    "    (\"nationally\", \"r\"),\n",
    "    (\"running\", \"v\"),\n",
    "    (\"kindness\", \"n\")\n",
    "]\n",
    "\n",
    "# Morphological Analysis\n",
    "print(\"Word        | Stem      | Lemma\")\n",
    "print(\"--------------------------------\")\n",
    "for word, pos in words_with_pos:\n",
    "    stem = stemmer.stem(word)\n",
    "    lemma = lemmatizer.lemmatize(word, pos=pos)\n",
    "    print(f\"{word:<11} | {stem:<9} | {lemma}\")"
   ]
  },
  {
   "cell_type": "code",
   "execution_count": null,
   "id": "802cc6cf-7a4e-472b-83c7-ce618dd5ae82",
   "metadata": {},
   "outputs": [],
   "source": []
  }
 ],
 "metadata": {
  "kernelspec": {
   "display_name": "Python 3 (ipykernel)",
   "language": "python",
   "name": "python3"
  },
  "language_info": {
   "codemirror_mode": {
    "name": "ipython",
    "version": 3
   },
   "file_extension": ".py",
   "mimetype": "text/x-python",
   "name": "python",
   "nbconvert_exporter": "python",
   "pygments_lexer": "ipython3",
   "version": "3.12.4"
  }
 },
 "nbformat": 4,
 "nbformat_minor": 5
}
